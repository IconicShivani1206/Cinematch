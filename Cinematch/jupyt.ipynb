{
 "cells": [
  {
   "cell_type": "code",
   "execution_count": null,
   "metadata": {},
   "outputs": [],
   "source": []
  },
  {
   "cell_type": "code",
   "execution_count": 2,
   "metadata": {},
   "outputs": [],
   "source": [
    "from sklearn.feature_extraction.text import CountVectorizer\n",
    "import numpy as np\n",
    "import pandas as pd\n",
    "import ast\n",
    "movies=pd.read_csv('tmdb_5000_movies.csv')\n",
    "credits=pd.read_csv('tmdb_5000_credits.csv')\n",
    "movies.head()\n",
    "credits.head()\n",
    "movies=movies.merge(credits,on='title')\n",
    "movies = movies[['movie_id','title','genres','keywords','overview','cast','crew']]\n",
    "movies.isnull().sum()      #checks missing data so we removed it\n",
    "movies.dropna(inplace=True)  # we r dropping  that rows here\n",
    "movies.duplicated().sum()   # we r  checking for the duplicate data as well\n",
    "\n",
    "\n",
    "def convert(obj):\n",
    "    l=[]\n",
    "    for i in ast.literal_eval(obj):    #to convert the list of dic in list whi is given as string in data\n",
    "        l.append(i['name'])            #converting into a list which only have the words without any numbers\n",
    "        \n",
    "    return l\n",
    "\n",
    "movies['genres']=movies['genres'].apply(convert)\n",
    "movies['keywords']=movies['keywords'].apply(convert)\n",
    "\n",
    "def convert3(obj):\n",
    "    l=[]\n",
    "    counter=0\n",
    "    for i in ast.literal_eval(obj):  #it takes the name of first three elements of the list \n",
    "        if counter!=3:\n",
    "            l.append(i['name'])\n",
    "            counter=counter+1\n",
    "        else:\n",
    "            break\n",
    "    return l\n",
    "\n",
    "\n",
    "movies['cast']=movies['cast'].apply(convert3)    #taking first three actor of dictionary value whose key is name\n",
    "\n",
    "def fetch_dir(obj):\n",
    "    l=[]\n",
    "    counter=0\n",
    "    for i in ast.literal_eval(obj):          #it fetches director in the crew  whose job is director \n",
    "        if i['job']=='Director':\n",
    "            l.append(i['name'])\n",
    "            break\n",
    "    return l\n",
    "\n",
    "movies['crew']=movies['crew'].apply(fetch_dir)\n",
    "movies['overview']=movies['overview'].apply(lambda x:x.split())   #splitting the line in words\n",
    "\n",
    "movies['genres']=movies['genres'].apply(lambda x:[i.replace(\" \",\"\") for i in x])"
   ]
  },
  {
   "cell_type": "code",
   "execution_count": 3,
   "metadata": {},
   "outputs": [],
   "source": [
    "\n",
    "movies['keywords']=movies['keywords'].apply(lambda x:[i.replace(\" \",\"\") for i in x])\n",
    "movies['cast']=movies['cast'].apply(lambda x:[i.replace(\" \",\"\") for i in x])\n",
    "movies['crew']=movies['crew'].apply(lambda x:[i.replace(\" \",\"\") for i in x])\n",
    "\n",
    "\n",
    "movies['tags']=movies['overview']+movies['genres']+movies['keywords']+movies['cast']+movies['crew']\n",
    "\n"
   ]
  },
  {
   "cell_type": "code",
   "execution_count": null,
   "metadata": {},
   "outputs": [],
   "source": [
    "movies.head()"
   ]
  },
  {
   "cell_type": "code",
   "execution_count": null,
   "metadata": {},
   "outputs": [],
   "source": [
    "new_df=movies[['movie_id','title','tags']]\n",
    "new_df['tags']=new_df['tags'].apply(lambda x:\" \".join(x))\n",
    "new_df['tags']=new_df['tags'].apply(lambda x:x.lower())"
   ]
  },
  {
   "cell_type": "code",
   "execution_count": null,
   "metadata": {},
   "outputs": [],
   "source": [
    "import nltk\n",
    "from nltk.stem.porter import PorterStemmer\n",
    "ps=PorterStemmer()\n",
    "def stem(text):\n",
    "    y=[]\n",
    "    for i in text.split():\n",
    "        y.append(ps.stem(i))\n",
    "    return \" \".join(y)\n",
    "new_df['tags']=new_df['tags'].apply(stem)"
   ]
  },
  {
   "cell_type": "code",
   "execution_count": null,
   "metadata": {},
   "outputs": [],
   "source": [
    "from sklearn.feature_extraction.text import CountVectorizer\n",
    "cv=CountVectorizer(max_features=5000,stop_words='english')\n",
    "vectors=cv.fit_transform(new_df['tags']).toarray()\n",
    "vectors\n",
    "feature_names = list(cv.vocabulary_.keys())\n",
    "feature_names"
   ]
  },
  {
   "cell_type": "code",
   "execution_count": null,
   "metadata": {},
   "outputs": [],
   "source": [
    "new_df.head()"
   ]
  },
  {
   "cell_type": "code",
   "execution_count": 9,
   "metadata": {},
   "outputs": [],
   "source": [
    "from sklearn.metrics.pairwise import cosine_similarity\n",
    "similarity= cosine_similarity(vectors)"
   ]
  },
  {
   "cell_type": "code",
   "execution_count": null,
   "metadata": {},
   "outputs": [],
   "source": [
    "sorted(list(enumerate(similarity[0])),reverse=True ,key=lambda x:x[1])[1:6]"
   ]
  },
  {
   "cell_type": "code",
   "execution_count": null,
   "metadata": {},
   "outputs": [],
   "source": [
    "def recommend(movie):\n",
    "    movie_index=new_df[new_df['title']==movie].index[0]\n",
    "    distances=similarity[movie_index]\n",
    "    movies_list=sorted(list(enumerate(distances)),reverse=True ,key=lambda x:x[1])[1:6]\n",
    "    for i in movies_list:\n",
    "       print(new_df.iloc[i[0]]['title'])\n",
    "\n",
    "recommend('Avatar')\n",
    "    "
   ]
  },
  {
   "cell_type": "code",
   "execution_count": null,
   "metadata": {},
   "outputs": [],
   "source": [
    "recommend('Avatar')"
   ]
  },
  {
   "cell_type": "code",
   "execution_count": null,
   "metadata": {},
   "outputs": [],
   "source": [
    "new_df['tags'][0]"
   ]
  },
  {
   "cell_type": "code",
   "execution_count": 14,
   "metadata": {},
   "outputs": [],
   "source": [
    "import pickle\n",
    "pickle.dump(new_df,open('movies.pkl','wb'))\n",
    "#pickle.dump(new_df.to_dict,open('movies_dict.pkl','wb'))"
   ]
  },
  {
   "cell_type": "code",
   "execution_count": null,
   "metadata": {},
   "outputs": [],
   "source": [
    "new_df['title'].values"
   ]
  },
  {
   "cell_type": "code",
   "execution_count": 16,
   "metadata": {},
   "outputs": [],
   "source": [
    "pickle.dump(similarity,open('similarity.pkl','wb'))"
   ]
  }
 ],
 "metadata": {
  "kernelspec": {
   "display_name": "Python 3",
   "language": "python",
   "name": "python3"
  },
  "language_info": {
   "codemirror_mode": {
    "name": "ipython",
    "version": 3
   },
   "file_extension": ".py",
   "mimetype": "text/x-python",
   "name": "python",
   "nbconvert_exporter": "python",
   "pygments_lexer": "ipython3",
   "version": "3.11.4"
  },
  "orig_nbformat": 4
 },
 "nbformat": 4,
 "nbformat_minor": 2
}
